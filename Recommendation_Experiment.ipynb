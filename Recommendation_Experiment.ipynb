{
  "cells": [
    {
      "cell_type": "markdown",
      "metadata": {
        "id": "view-in-github",
        "colab_type": "text"
      },
      "source": [
        "<a href=\"https://colab.research.google.com/github/spehl-max/recommendationExperiment/blob/main/Recommendation_Experiment.ipynb\" target=\"_parent\"><img src=\"https://colab.research.google.com/assets/colab-badge.svg\" alt=\"Open In Colab\"/></a>"
      ]
    },
    {
      "cell_type": "markdown",
      "metadata": {
        "id": "JhEDwl7IESf7"
      },
      "source": [
        "# LLM Consistency Evaluation\n",
        "## *Do LLMs Agree With Their Own Investment Advice?*\n",
        "\n",
        "### Written By: Max Spehlmann"
      ]
    },
    {
      "cell_type": "markdown",
      "metadata": {
        "id": "iRUWorSKJFZa"
      },
      "source": [
        "## Setup and Dependencies"
      ]
    },
    {
      "cell_type": "markdown",
      "source": [
        "### Packages"
      ],
      "metadata": {
        "id": "usGmag7R0_jz"
      }
    },
    {
      "cell_type": "code",
      "execution_count": null,
      "metadata": {
        "id": "AdE-_hjRJMaB",
        "colab": {
          "base_uri": "https://localhost:8080/"
        },
        "outputId": "eefcc8ca-729f-4c49-bcc6-ead3fb8862d7",
        "collapsed": true
      },
      "outputs": [
        {
          "output_type": "stream",
          "name": "stdout",
          "text": [
            "Collecting anthropic\n",
            "  Downloading anthropic-0.61.0-py3-none-any.whl.metadata (27 kB)\n",
            "Requirement already satisfied: anyio<5,>=3.5.0 in /usr/local/lib/python3.11/dist-packages (from anthropic) (4.9.0)\n",
            "Requirement already satisfied: distro<2,>=1.7.0 in /usr/local/lib/python3.11/dist-packages (from anthropic) (1.9.0)\n",
            "Requirement already satisfied: httpx<1,>=0.25.0 in /usr/local/lib/python3.11/dist-packages (from anthropic) (0.28.1)\n",
            "Requirement already satisfied: jiter<1,>=0.4.0 in /usr/local/lib/python3.11/dist-packages (from anthropic) (0.10.0)\n",
            "Requirement already satisfied: pydantic<3,>=1.9.0 in /usr/local/lib/python3.11/dist-packages (from anthropic) (2.11.7)\n",
            "Requirement already satisfied: sniffio in /usr/local/lib/python3.11/dist-packages (from anthropic) (1.3.1)\n",
            "Requirement already satisfied: typing-extensions<5,>=4.10 in /usr/local/lib/python3.11/dist-packages (from anthropic) (4.14.1)\n",
            "Requirement already satisfied: idna>=2.8 in /usr/local/lib/python3.11/dist-packages (from anyio<5,>=3.5.0->anthropic) (3.10)\n",
            "Requirement already satisfied: certifi in /usr/local/lib/python3.11/dist-packages (from httpx<1,>=0.25.0->anthropic) (2025.7.14)\n",
            "Requirement already satisfied: httpcore==1.* in /usr/local/lib/python3.11/dist-packages (from httpx<1,>=0.25.0->anthropic) (1.0.9)\n",
            "Requirement already satisfied: h11>=0.16 in /usr/local/lib/python3.11/dist-packages (from httpcore==1.*->httpx<1,>=0.25.0->anthropic) (0.16.0)\n",
            "Requirement already satisfied: annotated-types>=0.6.0 in /usr/local/lib/python3.11/dist-packages (from pydantic<3,>=1.9.0->anthropic) (0.7.0)\n",
            "Requirement already satisfied: pydantic-core==2.33.2 in /usr/local/lib/python3.11/dist-packages (from pydantic<3,>=1.9.0->anthropic) (2.33.2)\n",
            "Requirement already satisfied: typing-inspection>=0.4.0 in /usr/local/lib/python3.11/dist-packages (from pydantic<3,>=1.9.0->anthropic) (0.4.1)\n",
            "Downloading anthropic-0.61.0-py3-none-any.whl (294 kB)\n",
            "\u001b[?25l   \u001b[90m━━━━━━━━━━━━━━━━━━━━━━━━━━━━━━━━━━━━━━━━\u001b[0m \u001b[32m0.0/294.9 kB\u001b[0m \u001b[31m?\u001b[0m eta \u001b[36m-:--:--\u001b[0m\r\u001b[2K   \u001b[91m━━━━━━━━━━━━━━━━━━━━━━━\u001b[0m\u001b[91m╸\u001b[0m\u001b[90m━━━━━━━━━━━━━━━━\u001b[0m \u001b[32m174.1/294.9 kB\u001b[0m \u001b[31m5.0 MB/s\u001b[0m eta \u001b[36m0:00:01\u001b[0m\r\u001b[2K   \u001b[90m━━━━━━━━━━━━━━━━━━━━━━━━━━━━━━━━━━━━━━━━\u001b[0m \u001b[32m294.9/294.9 kB\u001b[0m \u001b[31m5.8 MB/s\u001b[0m eta \u001b[36m0:00:00\u001b[0m\n",
            "\u001b[?25hInstalling collected packages: anthropic\n",
            "Successfully installed anthropic-0.61.0\n",
            "Requirement already satisfied: openai in /usr/local/lib/python3.11/dist-packages (1.98.0)\n",
            "Collecting openai\n",
            "  Downloading openai-1.99.1-py3-none-any.whl.metadata (29 kB)\n",
            "Requirement already satisfied: anyio<5,>=3.5.0 in /usr/local/lib/python3.11/dist-packages (from openai) (4.9.0)\n",
            "Requirement already satisfied: distro<2,>=1.7.0 in /usr/local/lib/python3.11/dist-packages (from openai) (1.9.0)\n",
            "Requirement already satisfied: httpx<1,>=0.23.0 in /usr/local/lib/python3.11/dist-packages (from openai) (0.28.1)\n",
            "Requirement already satisfied: jiter<1,>=0.4.0 in /usr/local/lib/python3.11/dist-packages (from openai) (0.10.0)\n",
            "Requirement already satisfied: pydantic<3,>=1.9.0 in /usr/local/lib/python3.11/dist-packages (from openai) (2.11.7)\n",
            "Requirement already satisfied: sniffio in /usr/local/lib/python3.11/dist-packages (from openai) (1.3.1)\n",
            "Requirement already satisfied: tqdm>4 in /usr/local/lib/python3.11/dist-packages (from openai) (4.67.1)\n",
            "Requirement already satisfied: typing-extensions<5,>=4.11 in /usr/local/lib/python3.11/dist-packages (from openai) (4.14.1)\n",
            "Requirement already satisfied: idna>=2.8 in /usr/local/lib/python3.11/dist-packages (from anyio<5,>=3.5.0->openai) (3.10)\n",
            "Requirement already satisfied: certifi in /usr/local/lib/python3.11/dist-packages (from httpx<1,>=0.23.0->openai) (2025.7.14)\n",
            "Requirement already satisfied: httpcore==1.* in /usr/local/lib/python3.11/dist-packages (from httpx<1,>=0.23.0->openai) (1.0.9)\n",
            "Requirement already satisfied: h11>=0.16 in /usr/local/lib/python3.11/dist-packages (from httpcore==1.*->httpx<1,>=0.23.0->openai) (0.16.0)\n",
            "Requirement already satisfied: annotated-types>=0.6.0 in /usr/local/lib/python3.11/dist-packages (from pydantic<3,>=1.9.0->openai) (0.7.0)\n",
            "Requirement already satisfied: pydantic-core==2.33.2 in /usr/local/lib/python3.11/dist-packages (from pydantic<3,>=1.9.0->openai) (2.33.2)\n",
            "Requirement already satisfied: typing-inspection>=0.4.0 in /usr/local/lib/python3.11/dist-packages (from pydantic<3,>=1.9.0->openai) (0.4.1)\n",
            "Downloading openai-1.99.1-py3-none-any.whl (767 kB)\n",
            "\u001b[2K   \u001b[90m━━━━━━━━━━━━━━━━━━━━━━━━━━━━━━━━━━━━━━━━\u001b[0m \u001b[32m767.8/767.8 kB\u001b[0m \u001b[31m12.7 MB/s\u001b[0m eta \u001b[36m0:00:00\u001b[0m\n",
            "\u001b[?25hInstalling collected packages: openai\n",
            "  Attempting uninstall: openai\n",
            "    Found existing installation: openai 1.98.0\n",
            "    Uninstalling openai-1.98.0:\n",
            "      Successfully uninstalled openai-1.98.0\n",
            "Successfully installed openai-1.99.1\n"
          ]
        }
      ],
      "source": [
        "!pip install anthropic\n",
        "!pip install --upgrade openai\n",
        "from openai import OpenAI\n",
        "from anthropic import Anthropic, HUMAN_PROMPT, AI_PROMPT\n",
        "import pandas as pd\n",
        "import numpy as np\n",
        "import json\n",
        "import time\n",
        "from collections import Counter\n",
        "import matplotlib.pyplot as plt\n",
        "import seaborn as sns\n",
        "import os\n",
        "import matplotlib.pyplot as plt\n",
        "import numpy as np"
      ]
    },
    {
      "cell_type": "markdown",
      "source": [
        "### API Keys and Models"
      ],
      "metadata": {
        "id": "2gGFBoJl1DkF"
      }
    },
    {
      "cell_type": "code",
      "source": [
        "os.environ[\"CLAUDE_API_KEY\"] = \"YOUR_KEY_HERE\"\n",
        "os.environ[\"OPENAI_API_KEY\"] = \"YOUR_KEY_HERE\"\n",
        "\n",
        "anthropic_client = Anthropic(api_key=os.environ.get(\"CLAUDE_API_KEY\"))\n",
        "\n",
        "MODEL_CLAUDE = \"claude-sonnet-4-20250514\"\n",
        "\n",
        "openai_client = OpenAI(api_key=os.environ.get(\"OPENAI_API_KEY\"))\n",
        "\n",
        "MODEL_OPENAI = \"o1-mini\""
      ],
      "metadata": {
        "id": "j7v08HnWptgI"
      },
      "execution_count": null,
      "outputs": []
    },
    {
      "cell_type": "markdown",
      "source": [
        "### Sample Blackrock Market Report\n",
        "\n",
        "*https://www.blackrock.com/us/individual/insights/blackrock-investment-institute/weekly-commentary#asset-class-views*\n",
        "\n",
        "*Accessed, 8/5/25*"
      ],
      "metadata": {
        "id": "RCwvNWJe-hgF"
      }
    },
    {
      "cell_type": "code",
      "source": [
        "MARKET_REPORT = \"\"\"\n",
        "Weekly commentary August 4, 2025 U.S. tug-of-war: earnings vs. tariffs\n",
        "\n",
        "* U.S. corporate earnings resilience persists as tariff impacts become clearer. We stay overweight U.S. stocks but get granular while assessing the tariff fallout.\n",
        "* U.S. stocks fell and bond yields slid after soft U.S. jobs data suggested slowing activity. We see many macro crosscurrents at play, muddying the outlook.\n",
        "* U.S. trade data will show how much tariffs are impacting imports. The Bank of England is expected to cut policy rates.\n",
        "\n",
        "We see risk assets in a tug-of-war between solid U.S. corporate earnings, powered by the artificial intelligence (AI) theme, and tariffs hurting growth while lifting inflation. Q2 earnings results suggest the AI theme is winning, but questions remain about who will pay for tariffs. Early signs indicate a mix of consumers and companies. We think U.S. corporate strength could cushion the blow and stay overweight the AI theme and U.S. stocks. We get granular when eying the tariff hit.\n",
        "\n",
        "The U.S. \"reciprocal\" tariffs announced on April 2, which stoked historic market volatility, are now taking shape as the U.S. reaches agreements or imposes higher levies. U.S. tariffs on imports are now ending up at an effective rate around 15-20%, higher than we expected earlier this year, and generated revenues of $27 billion in June, Treasury data show. That means someone is paying the tariffs – and how much they hurt growth and stoke inflation will depend on who pays. Ultimately it is some mix of foreign suppliers, U.S. companies via profit margins and consumers via inflation. Yet U.S. corporate earnings are robust: Q2 U.S. earnings are up about 8% year-over-year even with tariffs, LSEG data show. U.S. profit margins are at record highs relative to flat margins in Europe. See the chart. U.S. mega cap tech is lifting AI investment as seen with Microsoft and Meta last week.\n",
        "The slew of trade agreements announced in recent weeks removes some of the uncertainty of the ultimate effective landing zone for tariffs – even if they're several times higher than where they were at the end of 2024. The tariff impact on U.S. consumers has been slow to show up in part because companies rushed to import goods before expected tariffs in April. Tariffs do not apply to ships that left the port, shipping can take several weeks and companies can delay payments even when goods arrive. Many have not yet raised prices until they have greater clarity. Yet that offset is fading: second quarter U.S. inflation data showed durable goods prices rising at the fastest pace since 1991 outside the pandemic. So consumers are starting to pay some of the tariff costs, especially in household appliances and electronics. And companies have also started paying: global automakers, some of the most exposed to tariffs, are reporting large earnings writedowns.\n",
        "\n",
        "Automakers highlight how complicated the tariff story is. U.S. automakers like General Motors and Ford are among those taking the large profit hits as tariffs are implemented – and chose to eat the tariffs. Japanese and South Korean automakers are absorbing tariff costs by cutting the prices of the vehicles they sell to the U.S. This pressure on pricing is especially acute in Europe where automakers battle with China's cheaper electric vehicles and are constrained in raising prices. By contrast, quality producers like Ferrari are lifting prices – highlighting the importance of pricing power.\n",
        "This is why corporate earnings resilience matters, in our view. Automakers are manufacturers. The industrials sector – where supply chains are among the most integrated globally – is dominated by manufacturers and is likely feeling the biggest impact of tariffs. And yet the industrials sector is the best-performing S&P 500 sector this year, up some 15% compared with 6% for the index, according to LSEG data. Why? Industrials benefit from the AI buildout and other key themes driven by mega forces, such as geopolitical fragmentation and the boost to defense spending this year. That's why this environment favors getting granular with views below the sector level and favors an active approach to achieving returns.\n",
        "Bottom line: We see a tug-of-war between the economic drag of tariffs and U.S. corporate earnings strength driven by AI. The latter is winning so far, in our view, but getting granular views is key as companies and consumers each eat tariff costs.\n",
        "Market backdrop U.S. stocks retreated for the week after pushing to new all-time highs, with the S&P 500 down about 2% for the week. Surprisingly weak payrolls data put stocks under pressure and pushed down Treasury yields on expectations for Federal Reserve rate cuts. We think the payrolls data shows activity slowing but that there are several crosscurrents at play when it comes to inflation (sticky wage growth, tariffs) and for risk assets (the AI theme holding up even as activity has slowed).\n",
        "\"\"\"\n",
        "\n",
        "print(\"✅ Sample financial report loaded\")\n",
        "print(f\"📄 Document length: {len(MARKET_REPORT)} characters\")"
      ],
      "metadata": {
        "colab": {
          "base_uri": "https://localhost:8080/"
        },
        "id": "LLaumiFBGhLw",
        "outputId": "b16b989b-b144-4b77-f18c-e9045b30736c"
      },
      "execution_count": null,
      "outputs": [
        {
          "output_type": "stream",
          "name": "stdout",
          "text": [
            "✅ Sample financial report loaded\n",
            "📄 Document length: 4925 characters\n"
          ]
        }
      ]
    },
    {
      "cell_type": "markdown",
      "source": [
        "## Main Orchestrator Class"
      ],
      "metadata": {
        "id": "KVjj4dH4-RPC"
      }
    },
    {
      "cell_type": "code",
      "source": [
        "import json\n",
        "import time\n",
        "import pandas as pd\n",
        "import matplotlib.pyplot as plt\n",
        "import numpy as np\n",
        "\n",
        "class SimplifiedConsistencyExperiment:\n",
        "    def __init__(self, anthropic_client, openai_client, claude_model, openai_model, earnings_statement,\n",
        "                 n_evaluation_reps=3, test_mode=False):\n",
        "        self.anthropic_client = anthropic_client\n",
        "        self.openai_client = openai_client\n",
        "        self.claude_model = claude_model\n",
        "        self.openai_model = openai_model\n",
        "        self.earnings_statement = earnings_statement\n",
        "        self.n_evaluation_reps = n_evaluation_reps\n",
        "        self.test_mode = test_mode\n",
        "        self.results = {\n",
        "            'claude_recommendations': [],\n",
        "            'openai_recommendations': [],\n",
        "            'claude_evaluations': [],  # Claude evaluating its own recs\n",
        "            'openai_evaluations': [],  # OpenAI evaluating its own recs\n",
        "            'analysis_summary': []  # Per-recommendation consistency stats\n",
        "        }\n",
        "\n",
        "    def extract_json_from_response(self, response: str) -> dict:\n",
        "        \"\"\"Extract JSON from LLM response, handling cases where extra text is included\"\"\"\n",
        "        try:\n",
        "            return json.loads(response)\n",
        "        except json.JSONDecodeError:\n",
        "            import re\n",
        "\n",
        "            # Find content between { and } (including nested braces)\n",
        "            json_pattern = r'\\{(?:[^{}]|{[^{}]*})*\\}'\n",
        "            matches = re.findall(json_pattern, response, re.DOTALL)\n",
        "\n",
        "            if matches:\n",
        "                for match in matches:\n",
        "                    try:\n",
        "                        return json.loads(match)\n",
        "                    except json.JSONDecodeError:\n",
        "                        continue\n",
        "\n",
        "            # Try to extract content between ```json and ```\n",
        "            code_block_pattern = r'```json\\s*(.*?)\\s*```'\n",
        "            code_matches = re.findall(code_block_pattern, response, re.DOTALL | re.IGNORECASE)\n",
        "\n",
        "            if code_matches:\n",
        "                for match in code_matches:\n",
        "                    try:\n",
        "                        return json.loads(match)\n",
        "                    except json.JSONDecodeError:\n",
        "                        continue\n",
        "\n",
        "            raise json.JSONDecodeError(f\"Could not extract valid JSON from response: {response[:200]}...\")\n",
        "\n",
        "    def call_claude(self, prompt: str, max_retries: int = 3) -> str:\n",
        "        \"\"\"Make API call to Claude with retry logic\"\"\"\n",
        "        for attempt in range(max_retries):\n",
        "            try:\n",
        "                response = self.anthropic_client.messages.create(\n",
        "                    model=self.claude_model,\n",
        "                    max_tokens=4000,\n",
        "                    messages=[{\"role\": \"user\", \"content\": prompt}]\n",
        "                )\n",
        "                return response.content[0].text\n",
        "            except Exception as e:\n",
        "                print(f\"Claude attempt {attempt + 1} failed: {e}\")\n",
        "                if attempt < max_retries - 1:\n",
        "                    time.sleep(2 ** attempt)\n",
        "                else:\n",
        "                    raise e\n",
        "\n",
        "    def call_openai(self, prompt: str, max_retries: int = 3) -> str:\n",
        "        \"\"\"Make API call to OpenAI with retry logic\"\"\"\n",
        "        for attempt in range(max_retries):\n",
        "            try:\n",
        "                response = self.openai_client.chat.completions.create(\n",
        "                    model=self.openai_model,\n",
        "                    messages=[{\"role\": \"user\", \"content\": prompt}]\n",
        "                )\n",
        "                return response.choices[0].message.content\n",
        "            except Exception as e:\n",
        "                print(f\"OpenAI attempt {attempt + 1} failed: {e}\")\n",
        "                if attempt < max_retries - 1:\n",
        "                    time.sleep(2 ** attempt)\n",
        "                else:\n",
        "                    raise e\n",
        "\n",
        "    def generate_recommendations(self):\n",
        "        \"\"\"Generate recommendations from both models\"\"\"\n",
        "        print(\"PHASE 1: Generating recommendations from both models...\")\n",
        "        print(\"-\" * 60)\n",
        "\n",
        "        prompt = f\"\"\"\n",
        "        Read this earnings statement and generate ten investment recommendations for a retail investor.\n",
        "\n",
        "        Each recommendation should be:\n",
        "        -Data-Driven\n",
        "        -Clear and actionable\n",
        "        -Risk-Aware\n",
        "        -Measureable\n",
        "\n",
        "        Print your recommendations in order of most to least confidence.\n",
        "        I.e, the first recommendation should be the recommendation for which you are most confident, and the tenth recommendation should be the recommendation for which you are least confident.\n",
        "\n",
        "        Earnings Statement:\n",
        "        {self.earnings_statement}\n",
        "        Generate your response in JSON format:\n",
        "        {{\n",
        "            \"ten_recommendations\": [\"rec 1\", \"rec 2\", ..., \"rec 10\"]\n",
        "        }}\n",
        "        Do not include any text in your response that is not part of the JSON response. The recommendation should be a single string, not a nested value.\n",
        "        \"\"\"\n",
        "\n",
        "        # Generate Claude's recommendations\n",
        "        print(\"→ Generating recommendations from Claude...\")\n",
        "        claude_response = self.call_claude(prompt)\n",
        "        claude_data = self.extract_json_from_response(claude_response)\n",
        "\n",
        "        for i, rec in enumerate(claude_data['ten_recommendations']):\n",
        "            confidence = 10 - i  # 1st rec = 10, 2nd rec = 9, ..., 10th rec = 1\n",
        "            self.results['claude_recommendations'].append({\n",
        "                'id': f\"claude_{i+1}\",\n",
        "                'recommendation': rec,\n",
        "                'confidence': confidence\n",
        "            })\n",
        "\n",
        "        # Generate OpenAI's recommendations\n",
        "        print(\"→ Generating recommendations from OpenAI...\")\n",
        "        openai_response = self.call_openai(prompt)\n",
        "        openai_data = self.extract_json_from_response(openai_response)\n",
        "\n",
        "        for i, rec in enumerate(openai_data['ten_recommendations']):\n",
        "            confidence = 10 - i  # 1st rec = 10, 2nd rec = 9, ..., 10th rec = 1\n",
        "            self.results['openai_recommendations'].append({\n",
        "                'id': f\"openai_{i+1}\",\n",
        "                'recommendation': rec,\n",
        "                'confidence': confidence\n",
        "            })\n",
        "\n",
        "        print(f\"✓ Generated recommendations:\")\n",
        "        print(f\"  - Claude: {len(self.results['claude_recommendations'])}\")\n",
        "        print(f\"  - OpenAI: {len(self.results['openai_recommendations'])}\")\n",
        "\n",
        "    def evaluate_own_recommendations(self):\n",
        "        \"\"\"Each model evaluates its own recommendations n times\"\"\"\n",
        "        print(f\"\\nPHASE 2: Self-evaluation ({self.n_evaluation_reps} reps each)...\")\n",
        "        print(\"-\" * 60)\n",
        "\n",
        "        eval_prompt_template = \"\"\"\n",
        "        You are evaluating a retail investment recommendation based on a market report. Please determine if the recommendation is good or bad.\n",
        "\n",
        "        A good recommendation should be:\n",
        "        -Data-Driven\n",
        "        -Clear and actionable\n",
        "        -Risk-Aware\n",
        "        -Measureable\n",
        "\n",
        "        Earnings Statement:\n",
        "        {earnings_statement}\n",
        "\n",
        "        Recommendation:\n",
        "        {recommendation}\n",
        "\n",
        "        Output your evaluation in JSON format:\n",
        "        {{\n",
        "            \"good_bad\": \"good\" or \"bad\"\n",
        "        }}\n",
        "\n",
        "        Do not include any text in your response that is not part of the JSON response.\n",
        "        \"\"\"\n",
        "\n",
        "        # Claude evaluates its own recommendations\n",
        "        claude_recs = (self.results['claude_recommendations'][:2]\n",
        "                      if self.test_mode\n",
        "                      else self.results['claude_recommendations'])\n",
        "\n",
        "        print(f\"→ Claude evaluating its own {len(claude_recs)} recommendations...\")\n",
        "        for i, rec_data in enumerate(claude_recs):\n",
        "            print(f\"   Recommendation {i+1}/{len(claude_recs)}: {rec_data['id']}\")\n",
        "\n",
        "            for rep in range(self.n_evaluation_reps):\n",
        "                prompt = eval_prompt_template.format(\n",
        "                    earnings_statement=self.earnings_statement,\n",
        "                    recommendation=rec_data['recommendation']\n",
        "                )\n",
        "\n",
        "                response = self.call_claude(prompt)\n",
        "                eval_data = self.extract_json_from_response(response)\n",
        "\n",
        "                self.results['claude_evaluations'].append({\n",
        "                    'rec_id': rec_data['id'],\n",
        "                    'rep_number': rep + 1,\n",
        "                    'evaluation': eval_data['good_bad']\n",
        "                })\n",
        "\n",
        "                time.sleep(0.5)\n",
        "\n",
        "        # OpenAI evaluates its own recommendations\n",
        "        openai_recs = (self.results['openai_recommendations'][:2]\n",
        "                      if self.test_mode\n",
        "                      else self.results['openai_recommendations'])\n",
        "\n",
        "        print(f\"→ OpenAI evaluating its own {len(openai_recs)} recommendations...\")\n",
        "        for i, rec_data in enumerate(openai_recs):\n",
        "            print(f\"   Recommendation {i+1}/{len(openai_recs)}: {rec_data['id']}\")\n",
        "\n",
        "            for rep in range(self.n_evaluation_reps):\n",
        "                prompt = eval_prompt_template.format(\n",
        "                    earnings_statement=self.earnings_statement,\n",
        "                    recommendation=rec_data['recommendation']\n",
        "                )\n",
        "\n",
        "                response = self.call_openai(prompt)\n",
        "                eval_data = self.extract_json_from_response(response)\n",
        "\n",
        "                self.results['openai_evaluations'].append({\n",
        "                    'rec_id': rec_data['id'],\n",
        "                    'rep_number': rep + 1,\n",
        "                    'evaluation': eval_data['good_bad']\n",
        "                })\n",
        "\n",
        "                time.sleep(0.5)\n",
        "\n",
        "        print(f\"✓ Completed self-evaluations\")\n",
        "        print(f\"  - Claude evaluations: {len(self.results['claude_evaluations'])}\")\n",
        "        print(f\"  - OpenAI evaluations: {len(self.results['openai_evaluations'])}\")\n",
        "\n",
        "    def analyze_consistency(self):\n",
        "        \"\"\"Analyze consistency for each recommendation\"\"\"\n",
        "        print(\"\\nPHASE 3: Analyzing consistency...\")\n",
        "        print(\"-\" * 60)\n",
        "\n",
        "        self.results['analysis_summary'] = []\n",
        "\n",
        "        # Analyze Claude's consistency\n",
        "        claude_df = pd.DataFrame(self.results['claude_evaluations'])\n",
        "        if len(claude_df) > 0:\n",
        "            for rec_id in claude_df['rec_id'].unique():\n",
        "                rec_evals = claude_df[claude_df['rec_id'] == rec_id]\n",
        "\n",
        "                total_evals = len(rec_evals)\n",
        "                good_count = len(rec_evals[rec_evals['evaluation'] == 'good'])\n",
        "                bad_count = len(rec_evals[rec_evals['evaluation'] == 'bad'])\n",
        "\n",
        "                good_percent = (good_count / total_evals) * 100\n",
        "                bad_percent = (bad_count / total_evals) * 100\n",
        "\n",
        "                # Inconsistency percentage = percentage that were inconsistent with original \"good\" assessment\n",
        "                inconsistency_percent = bad_percent\n",
        "\n",
        "                rec_text = next(r['recommendation'] for r in self.results['claude_recommendations']\n",
        "                              if r['id'] == rec_id)\n",
        "                rec_confidence = next(r['confidence'] for r in self.results['claude_recommendations']\n",
        "                                    if r['id'] == rec_id)\n",
        "\n",
        "                self.results['analysis_summary'].append({\n",
        "                    'model': 'claude',\n",
        "                    'rec_id': rec_id,\n",
        "                    'recommendation': rec_text,\n",
        "                    'confidence': rec_confidence,\n",
        "                    'total_evaluations': total_evals,\n",
        "                    'good_count': good_count,\n",
        "                    'bad_count': bad_count,\n",
        "                    'good_percent': good_percent,\n",
        "                    'bad_percent': bad_percent,\n",
        "                    'inconsistency_percent': inconsistency_percent,\n",
        "                    'is_perfectly_consistent': inconsistency_percent == 0\n",
        "                })\n",
        "\n",
        "        # Analyze OpenAI's consistency\n",
        "        openai_df = pd.DataFrame(self.results['openai_evaluations'])\n",
        "        if len(openai_df) > 0:\n",
        "            for rec_id in openai_df['rec_id'].unique():\n",
        "                rec_evals = openai_df[openai_df['rec_id'] == rec_id]\n",
        "\n",
        "                total_evals = len(rec_evals)\n",
        "                good_count = len(rec_evals[rec_evals['evaluation'] == 'good'])\n",
        "                bad_count = len(rec_evals[rec_evals['evaluation'] == 'bad'])\n",
        "\n",
        "                good_percent = (good_count / total_evals) * 100\n",
        "                bad_percent = (bad_count / total_evals) * 100\n",
        "\n",
        "                # Inconsistency percentage = percentage that were inconsistent with original \"good\" assessment\n",
        "                inconsistency_percent = bad_percent\n",
        "\n",
        "                rec_text = next(r['recommendation'] for r in self.results['openai_recommendations']\n",
        "                              if r['id'] == rec_id)\n",
        "                rec_confidence = next(r['confidence'] for r in self.results['openai_recommendations']\n",
        "                                    if r['id'] == rec_id)\n",
        "\n",
        "                self.results['analysis_summary'].append({\n",
        "                    'model': 'openai',\n",
        "                    'rec_id': rec_id,\n",
        "                    'recommendation': rec_text,\n",
        "                    'confidence': rec_confidence,\n",
        "                    'total_evaluations': total_evals,\n",
        "                    'good_count': good_count,\n",
        "                    'bad_count': bad_count,\n",
        "                    'good_percent': good_percent,\n",
        "                    'bad_percent': bad_percent,\n",
        "                    'inconsistency_percent': inconsistency_percent,\n",
        "                    'is_perfectly_consistent': inconsistency_percent == 0\n",
        "                })\n",
        "\n",
        "        print(f\"✓ Analyzed consistency for {len(self.results['analysis_summary'])} recommendations\")\n",
        "\n",
        "    def show_consistency_summary(self):\n",
        "        \"\"\"Show summary of consistency analysis\"\"\"\n",
        "        if not self.results['analysis_summary']:\n",
        "            print(\"No analysis available. Run analyze_consistency() first.\")\n",
        "            return\n",
        "\n",
        "        print(\"\\nCONSISTENCY ANALYSIS SUMMARY:\")\n",
        "        print(\"=\" * 80)\n",
        "\n",
        "        df = pd.DataFrame(self.results['analysis_summary'])\n",
        "        df['consistency_percent'] = 100 - df['inconsistency_percent']\n",
        "\n",
        "        # Overall stats\n",
        "        total_recs = len(df)\n",
        "        perfectly_consistent = len(df[df['is_perfectly_consistent'] == True])\n",
        "        avg_consistency_percent = df['consistency_percent'].mean()\n",
        "\n",
        "        print(f\"Total recommendations analyzed: {total_recs}\")\n",
        "        print(f\"Perfectly consistent: {perfectly_consistent}/{total_recs} ({perfectly_consistent/total_recs*100:.1f}%)\")\n",
        "        print(f\"Average consistency percentage: {avg_consistency_percent:.1f}%\")\n",
        "\n",
        "        # By model\n",
        "        print(f\"\\nBy Model:\")\n",
        "        for model in ['claude', 'openai']:\n",
        "            model_data = df[df['model'] == model]\n",
        "            if len(model_data) > 0:\n",
        "                model_consistent = len(model_data[model_data['is_perfectly_consistent'] == True])\n",
        "                model_avg_consistency = model_data['consistency_percent'].mean()\n",
        "                print(f\"  {model.upper()}:\")\n",
        "                print(f\"    Perfectly consistent: {model_consistent}/{len(model_data)} ({model_consistent/len(model_data)*100:.1f}%)\")\n",
        "                print(f\"    Avg consistency percentage: {model_avg_consistency:.1f}%\")\n",
        "\n",
        "        # Show worst performers (lowest consistency)\n",
        "        print(f\"\\nLeast Consistent Recommendations (lowest consistency %):\")\n",
        "        worst = df.nsmallest(5, 'consistency_percent')\n",
        "        for _, row in worst.iterrows():\n",
        "            print(f\"  {row['rec_id']} [{row['model'].upper()}]: {row['consistency_percent']:.1f}% consistent (confidence: {row['confidence']})\")\n",
        "            print(f\"    ({row['good_count']} good, {row['bad_count']} bad out of {row['total_evaluations']})\")\n",
        "            print(f\"    \\\"{row['recommendation'][:60]}...\\\"\")\n",
        "            print()\n",
        "\n",
        "    def show_detailed_breakdown(self):\n",
        "        \"\"\"Show detailed breakdown for each recommendation\"\"\"\n",
        "        if not self.results['analysis_summary']:\n",
        "            print(\"No analysis available.\")\n",
        "            return\n",
        "\n",
        "        print(\"\\nDETAILED CONSISTENCY BREAKDOWN:\")\n",
        "        print(\"=\" * 80)\n",
        "\n",
        "        df = pd.DataFrame(self.results['analysis_summary'])\n",
        "        df['consistency_percent'] = 100 - df['inconsistency_percent']\n",
        "\n",
        "        for _, row in df.iterrows():\n",
        "            status = \"✓ PERFECTLY CONSISTENT\" if row['is_perfectly_consistent'] else f\"⚠ {row['consistency_percent']:.1f}% CONSISTENT\"\n",
        "\n",
        "            print(f\"{row['rec_id']} [{row['model'].upper()}] - {status} (confidence: {row['confidence']})\")\n",
        "            print(f\"  Good: {row['good_count']}/{row['total_evaluations']} ({row['good_percent']:.1f}%)\")\n",
        "            print(f\"  Bad: {row['bad_count']}/{row['total_evaluations']} ({row['bad_percent']:.1f}%)\")\n",
        "            print(f\"  Recommendation: \\\"{row['recommendation'][:80]}...\\\"\")\n",
        "            print()\n",
        "\n",
        "    def create_inconsistency_histogram(self):\n",
        "        \"\"\"Create histogram of consistency percentages by model\"\"\"\n",
        "        if not self.results['analysis_summary']:\n",
        "            print(\"No analysis available for visualization.\")\n",
        "            return\n",
        "\n",
        "        df = pd.DataFrame(self.results['analysis_summary'])\n",
        "        df['consistency_percent'] = 100 - df['inconsistency_percent']\n",
        "\n",
        "        fig, axes = plt.subplots(1, 2, figsize=(15, 6))\n",
        "\n",
        "        # Consistency percentage histogram by model\n",
        "        claude_data = df[df['model'] == 'claude']['consistency_percent']\n",
        "        openai_data = df[df['model'] == 'openai']['consistency_percent']\n",
        "\n",
        "        if len(claude_data) > 0 and len(openai_data) > 0:\n",
        "            axes[0].hist([claude_data, openai_data], bins=8, alpha=0.7,\n",
        "                        label=['Claude', 'OpenAI'], color=['blue', 'orange'], edgecolor='black')\n",
        "            axes[0].set_title(f'Consistency Percentage by Model\\n({self.n_evaluation_reps} evaluations per recommendation)')\n",
        "            axes[0].set_xlabel('Consistency Percentage (%)')\n",
        "            axes[0].set_ylabel('Number of Recommendations')\n",
        "            axes[0].legend()\n",
        "\n",
        "        # Scatter plot: Confidence vs Consistency Percentage\n",
        "        claude_scatter = df[df['model'] == 'claude']\n",
        "        openai_scatter = df[df['model'] == 'openai']\n",
        "\n",
        "        if len(claude_scatter) > 0:\n",
        "            axes[1].scatter(claude_scatter['confidence'], claude_scatter['consistency_percent'],\n",
        "                           color='blue', alpha=0.7, label='Claude', s=60)\n",
        "        if len(openai_scatter) > 0:\n",
        "            axes[1].scatter(openai_scatter['confidence'], openai_scatter['consistency_percent'],\n",
        "                           color='orange', alpha=0.7, label='OpenAI', s=60)\n",
        "\n",
        "        axes[1].set_title('Confidence vs Consistency')\n",
        "        axes[1].set_xlabel('Initial Confidence Rating (1-10)')\n",
        "        axes[1].set_ylabel('Consistency Percentage (%)')\n",
        "        axes[1].set_xlim(0.5, 10.5)\n",
        "        axes[1].set_ylim(-5, 105)\n",
        "        axes[1].grid(True, alpha=0.3)\n",
        "        axes[1].legend()\n",
        "\n",
        "        # Calculate and display correlations\n",
        "        if len(claude_scatter) > 1:\n",
        "            claude_corr = np.corrcoef(claude_scatter['confidence'], claude_scatter['consistency_percent'])[0, 1]\n",
        "            axes[1].text(0.02, 0.98, f'Claude correlation: {claude_corr:.3f}',\n",
        "                        transform=axes[1].transAxes, verticalalignment='top',\n",
        "                        bbox=dict(boxstyle='round', facecolor='lightblue', alpha=0.7))\n",
        "\n",
        "        if len(openai_scatter) > 1:\n",
        "            openai_corr = np.corrcoef(openai_scatter['confidence'], openai_scatter['consistency_percent'])[0, 1]\n",
        "            axes[1].text(0.02, 0.88, f'OpenAI correlation: {openai_corr:.3f}',\n",
        "                        transform=axes[1].transAxes, verticalalignment='top',\n",
        "                        bbox=dict(boxstyle='round', facecolor='orange', alpha=0.7))\n",
        "\n",
        "        plt.tight_layout()\n",
        "        plt.show()\n",
        "\n",
        "    def load_from_json(self, filename: str):\n",
        "        \"\"\"Load previous results from JSON file\"\"\"\n",
        "        with open(filename, 'r') as f:\n",
        "            self.results = json.load(f)\n",
        "        print(f\"✓ Results loaded from {filename}\")\n",
        "        print(f\"  - Claude recommendations: {len(self.results.get('claude_recommendations', []))}\")\n",
        "        print(f\"  - OpenAI recommendations: {len(self.results.get('openai_recommendations', []))}\")\n",
        "        print(f\"  - Claude evaluations: {len(self.results.get('claude_evaluations', []))}\")\n",
        "        print(f\"  - OpenAI evaluations: {len(self.results.get('openai_evaluations', []))}\")\n",
        "\n",
        "\n",
        "    def get_article_facts(self):\n",
        "        \"\"\"Get key facts for article writing in string format\"\"\"\n",
        "        if not self.results['analysis_summary']:\n",
        "            return \"No analysis available. Run analyze_consistency() first.\"\n",
        "\n",
        "        df = pd.DataFrame(self.results['analysis_summary'])\n",
        "        df['consistency_percent'] = 100 - df['inconsistency_percent']\n",
        "\n",
        "        # Calculate key metrics\n",
        "        total_recs = len(df)\n",
        "        recs_with_some_inconsistency = len(df[df['inconsistency_percent'] > 0])\n",
        "        recs_rated_bad_100_percent = len(df[df['inconsistency_percent'] == 100])\n",
        "\n",
        "        percent_with_some_inconsistency = (recs_with_some_inconsistency / total_recs) * 100\n",
        "        avg_consistency = df['consistency_percent'].mean()\n",
        "\n",
        "        # By model breakdown\n",
        "        claude_df = df[df['model'] == 'claude']\n",
        "        openai_df = df[df['model'] == 'openai']\n",
        "\n",
        "        claude_some_inconsistency = len(claude_df[claude_df['inconsistency_percent'] > 0])\n",
        "        openai_some_inconsistency = len(openai_df[openai_df['inconsistency_percent'] > 0])\n",
        "\n",
        "        claude_100_bad = len(claude_df[claude_df['inconsistency_percent'] == 100])\n",
        "        openai_100_bad = len(openai_df[openai_df['inconsistency_percent'] == 100])\n",
        "\n",
        "        # Confidence correlation (if available)\n",
        "        correlation_text = \"\"\n",
        "        if 'confidence' in df.columns:\n",
        "            if len(claude_df) > 1:\n",
        "                claude_corr = np.corrcoef(claude_df['confidence'], claude_df['consistency_percent'])[0, 1]\n",
        "                correlation_text += f\"Claude confidence-consistency correlation: {claude_corr:.3f}\\n\"\n",
        "            if len(openai_df) > 1:\n",
        "                openai_corr = np.corrcoef(openai_df['confidence'], openai_df['consistency_percent'])[0, 1]\n",
        "                correlation_text += f\"OpenAI confidence-consistency correlation: {openai_corr:.3f}\\n\"\n",
        "\n",
        "        # Generate article facts\n",
        "        facts = f\"\"\"ARTICLE FACTS:\n",
        "\n",
        "KEY INCONSISTENCY METRICS:\n",
        "- {percent_with_some_inconsistency:.1f}% of recommendations showed some inconsistency (rated as 'bad' at least once)\n",
        "- {recs_rated_bad_100_percent} recommendations were rated as 'bad' 100% of the time\n",
        "- Average consistency across all recommendations: {avg_consistency:.1f}%\n",
        "- Total recommendations analyzed: {total_recs} ({self.n_evaluation_reps} evaluations each)\n",
        "\n",
        "BY MODEL BREAKDOWN:\n",
        "Claude:\n",
        "- {claude_some_inconsistency}/{len(claude_df)} recommendations showed inconsistency ({(claude_some_inconsistency/len(claude_df)*100):.1f}%)\n",
        "- {claude_100_bad} recommendations rated 'bad' 100% of the time\n",
        "- Average consistency: {claude_df['consistency_percent'].mean():.1f}%\n",
        "\n",
        "OpenAI:\n",
        "- {openai_some_inconsistency}/{len(openai_df)} recommendations showed inconsistency ({(openai_some_inconsistency/len(openai_df)*100):.1f}%)\n",
        "- {openai_100_bad} recommendations rated 'bad' 100% of the time\n",
        "- Average consistency: {openai_df['consistency_percent'].mean():.1f}%\n",
        "\n",
        "{correlation_text}\n",
        "ARTICLE-READY SENTENCES:\n",
        "\"I measured its response {self.n_evaluation_reps} times per recommendation. {percent_with_some_inconsistency:.1f}% of the time the LLM rated its own 'good' advice as 'bad' at least one time. For {recs_rated_bad_100_percent} recommendations, the LLM rated its advice as 'bad' {100}% percent of the time! Not too confidence inspiring for our free financial advisor.\"\n",
        "\n",
        "\"On average, the models were consistent with their own recommendations {avg_consistency:.1f}% of the time.\"\n",
        "        \"\"\"\n",
        "\n",
        "        print(facts)\n",
        "        return facts\n",
        "\n",
        "    def export_charts(self, filename_prefix='llm_consistency', dpi=150):\n",
        "        \"\"\"Export both charts as separate high-quality images for publication\"\"\"\n",
        "        if not self.results['analysis_summary']:\n",
        "            print(\"No analysis available for visualization.\")\n",
        "            return\n",
        "\n",
        "        df = pd.DataFrame(self.results['analysis_summary'])\n",
        "        df['consistency_percent'] = 100 - df['inconsistency_percent']\n",
        "\n",
        "        # Set font for export\n",
        "        plt.rcParams['font.family'] = ['DejaVu Sans', 'Liberation Sans', 'sans-serif']\n",
        "\n",
        "        # Chart 1: Consistency Histogram\n",
        "        fig1, ax1 = plt.subplots(1, 1, figsize=(10, 6))\n",
        "        claude_data = df[df['model'] == 'claude']['consistency_percent']\n",
        "        openai_data = df[df['model'] == 'openai']['consistency_percent']\n",
        "\n",
        "        if len(claude_data) > 0 and len(openai_data) > 0:\n",
        "            # Define bin edges for clear boundaries\n",
        "            bin_edges = [0, 12.5, 25, 37.5, 50, 62.5, 75, 87.5, 100]\n",
        "            ax1.hist([claude_data, openai_data], bins=bin_edges, alpha=0.8,\n",
        "                    label=['Claude', 'OpenAI'], color=['#2E86C1', '#F39C12'],\n",
        "                    edgecolor='black', histtype='stepfilled', rwidth=0.8)\n",
        "\n",
        "        ax1.set_xlabel('Consistency Percentage (%)', fontsize=18)\n",
        "        ax1.set_ylabel('Number of Recommendations', fontsize=18)\n",
        "        ax1.set_ylim(0, 10)  # Set y-axis max to 10\n",
        "        ax1.set_yticks([0, 2, 4, 6, 8, 10])  # Clean y-axis intervals\n",
        "        # Set x-axis ticks to show bin boundaries\n",
        "        ax1.set_xticks([0, 12.5, 25, 37.5, 50, 62.5, 75, 87.5, 100])\n",
        "        ax1.legend(fontsize=16)\n",
        "        ax1.tick_params(axis='both', which='major', labelsize=15)\n",
        "        plt.tight_layout()\n",
        "\n",
        "        filename1 = f\"{filename_prefix}_histogram.png\"\n",
        "        plt.savefig(filename1, dpi=dpi, bbox_inches='tight', facecolor='white')\n",
        "        print(f\"✓ Histogram exported to {filename1}\")\n",
        "        plt.close()\n",
        "\n",
        "        # Chart 2: Confidence vs Consistency Scatter\n",
        "        fig2, ax2 = plt.subplots(1, 1, figsize=(10, 6))\n",
        "        claude_scatter = df[df['model'] == 'claude']\n",
        "        openai_scatter = df[df['model'] == 'openai']\n",
        "\n",
        "        if len(claude_scatter) > 0:\n",
        "            ax2.scatter(claude_scatter['confidence'], claude_scatter['consistency_percent'],\n",
        "                      color='#2E86C1', alpha=0.8, label='Claude', s=100,\n",
        "                      edgecolors='white', linewidths=1)\n",
        "\n",
        "        if len(openai_scatter) > 0:\n",
        "            ax2.scatter(openai_scatter['confidence'], openai_scatter['consistency_percent'],\n",
        "                      color='#F39C12', alpha=0.8, label='OpenAI', s=100,\n",
        "                      edgecolors='white', linewidths=1)\n",
        "\n",
        "        ax2.set_xlabel('Initial Confidence Rating (1-10)', fontsize=18)\n",
        "        ax2.set_ylabel('Consistency Percentage (%)', fontsize=18)\n",
        "        ax2.set_xlim(0.5, 10.5)\n",
        "        ax2.set_ylim(-5, 105)\n",
        "        ax2.set_yticks([0, 25, 50, 75, 100])  # Clean y-axis intervals for consistency\n",
        "        ax2.legend(fontsize=16)\n",
        "        ax2.tick_params(axis='both', which='major', labelsize=15)\n",
        "\n",
        "        # Calculate and display correlations\n",
        "        if len(claude_scatter) > 1:\n",
        "            claude_corr = np.corrcoef(claude_scatter['confidence'], claude_scatter['consistency_percent'])[0, 1]\n",
        "            ax2.text(0.02, 0.50, f'Claude correlation: {claude_corr:.3f}',\n",
        "                    transform=ax2.transAxes, verticalalignment='top', fontsize=15,\n",
        "                    bbox=dict(boxstyle='round', facecolor='white', alpha=0.9, edgecolor='#2E86C1'))\n",
        "\n",
        "        if len(openai_scatter) > 1:\n",
        "            openai_corr = np.corrcoef(openai_scatter['confidence'], openai_scatter['consistency_percent'])[0, 1]\n",
        "            ax2.text(0.02, 0.40, f'OpenAI correlation: {openai_corr:.3f}',\n",
        "                    transform=ax2.transAxes, verticalalignment='top', fontsize=15,\n",
        "                    bbox=dict(boxstyle='round', facecolor='white', alpha=0.9, edgecolor='#F39C12'))\n",
        "\n",
        "        plt.tight_layout()\n",
        "        filename2 = f\"{filename_prefix}_scatter.png\"\n",
        "        plt.savefig(filename2, dpi=dpi, bbox_inches='tight', facecolor='white')\n",
        "        print(f\"✓ Scatter plot exported to {filename2}\")\n",
        "        plt.close()\n",
        "\n",
        "        print(f\"\\nBoth charts exported at {dpi} DPI for publication quality\")\n",
        "        print(f\"Files: {filename1}, {filename2}\")\n",
        "\n",
        "    def export_results(self, filename: str = 'li_consistency_results.json'):\n",
        "        \"\"\"Export results to JSON and CSV files\"\"\"\n",
        "        # Export JSON\n",
        "        with open(filename, 'w') as f:\n",
        "            json.dump(self.results, f, indent=2)\n",
        "        print(f\"✓ Results exported to {filename}\")\n",
        "\n",
        "        # Export analysis summary as CSV\n",
        "        if self.results['analysis_summary']:\n",
        "            df = pd.DataFrame(self.results['analysis_summary'])\n",
        "            csv_filename = filename.replace('.json', '_summary.csv')\n",
        "            df.to_csv(csv_filename, index=False)\n",
        "            print(f\"✓ Analysis summary exported to {csv_filename}\")\n",
        "\n",
        "    def reset_experiment(self):\n",
        "        \"\"\"Reset all results\"\"\"\n",
        "        self.results = {\n",
        "            'claude_recommendations': [],\n",
        "            'openai_recommendations': [],\n",
        "            'claude_evaluations': [],\n",
        "            'openai_evaluations': [],\n",
        "            'analysis_summary': []\n",
        "        }\n",
        "        print(\"✓ Experiment reset\")"
      ],
      "metadata": {
        "id": "JnhKx6Nv-O8U"
      },
      "execution_count": null,
      "outputs": []
    },
    {
      "cell_type": "markdown",
      "source": [
        "## Example Experiment"
      ],
      "metadata": {
        "id": "F-vqrCob1ieZ"
      }
    },
    {
      "cell_type": "markdown",
      "source": [
        "### Initialize Orchestrator With Parameters"
      ],
      "metadata": {
        "id": "9bdcM7Id1lVS"
      }
    },
    {
      "cell_type": "code",
      "source": [
        "# Initialize experiment\n",
        "li_article_experiment = SimplifiedConsistencyExperiment(\n",
        "    anthropic_client=anthropic_client,\n",
        "    openai_client=openai_client,\n",
        "    claude_model=MODEL_CLAUDE,\n",
        "    openai_model=MODEL_OPENAI,\n",
        "    earnings_statement=MARKET_REPORT,\n",
        "    n_evaluation_reps=10,  # Each model evaluates its recs 5 times\n",
        "    test_mode=False  # Set to False for full run, True for a single rec from each model\n",
        ")"
      ],
      "metadata": {
        "id": "jBVhQRUdi3jM"
      },
      "execution_count": null,
      "outputs": []
    },
    {
      "cell_type": "markdown",
      "source": [
        "### If Already Ran This Particular Experiment, Load Results From JSON"
      ],
      "metadata": {
        "id": "GK0UabhQ15rb"
      }
    },
    {
      "cell_type": "code",
      "source": [
        "#load from JSON\n",
        "li_article_experiment.load_from_json('li_consistency_results.json')"
      ],
      "metadata": {
        "colab": {
          "base_uri": "https://localhost:8080/"
        },
        "id": "Z63TnnTla43Q",
        "outputId": "cd872fb1-dc85-4b78-eca6-afcdc0e6459f"
      },
      "execution_count": null,
      "outputs": [
        {
          "output_type": "stream",
          "name": "stdout",
          "text": [
            "✓ Results loaded from li_consistency_results.json\n",
            "  - Claude recommendations: 10\n",
            "  - OpenAI recommendations: 10\n",
            "  - Claude evaluations: 100\n",
            "  - OpenAI evaluations: 100\n"
          ]
        }
      ]
    },
    {
      "cell_type": "markdown",
      "source": [
        "### Else, Generate Results"
      ],
      "metadata": {
        "id": "T-GXu0ua2CE7"
      }
    },
    {
      "cell_type": "code",
      "source": [
        "#li_article_experiment.generate_recommendations()"
      ],
      "metadata": {
        "colab": {
          "base_uri": "https://localhost:8080/"
        },
        "id": "vvC2HuXRlX-g",
        "outputId": "fcb62e82-22f6-44c9-c6d1-2e709faecbcc"
      },
      "execution_count": null,
      "outputs": [
        {
          "output_type": "stream",
          "name": "stdout",
          "text": [
            "PHASE 1: Generating recommendations from both models...\n",
            "------------------------------------------------------------\n",
            "→ Generating recommendations from Claude...\n",
            "→ Generating recommendations from OpenAI...\n",
            "✓ Generated recommendations:\n",
            "  - Claude: 10\n",
            "  - OpenAI: 10\n"
          ]
        }
      ]
    },
    {
      "cell_type": "code",
      "source": [
        "#li_article_experiment.evaluate_own_recommendations()"
      ],
      "metadata": {
        "colab": {
          "base_uri": "https://localhost:8080/"
        },
        "id": "c7Fu2souW1vH",
        "outputId": "17bb66bd-3de2-4ed6-ed6b-e6e16c09fea4"
      },
      "execution_count": null,
      "outputs": [
        {
          "output_type": "stream",
          "name": "stdout",
          "text": [
            "\n",
            "PHASE 2: Self-evaluation (10 reps each)...\n",
            "------------------------------------------------------------\n",
            "→ Claude evaluating its own 10 recommendations...\n",
            "   Recommendation 1/10: claude_1\n",
            "   Recommendation 2/10: claude_2\n",
            "   Recommendation 3/10: claude_3\n",
            "   Recommendation 4/10: claude_4\n",
            "   Recommendation 5/10: claude_5\n",
            "   Recommendation 6/10: claude_6\n",
            "   Recommendation 7/10: claude_7\n",
            "   Recommendation 8/10: claude_8\n",
            "   Recommendation 9/10: claude_9\n",
            "   Recommendation 10/10: claude_10\n",
            "→ OpenAI evaluating its own 10 recommendations...\n",
            "   Recommendation 1/10: openai_1\n",
            "   Recommendation 2/10: openai_2\n",
            "   Recommendation 3/10: openai_3\n",
            "   Recommendation 4/10: openai_4\n",
            "   Recommendation 5/10: openai_5\n",
            "   Recommendation 6/10: openai_6\n",
            "   Recommendation 7/10: openai_7\n",
            "   Recommendation 8/10: openai_8\n",
            "   Recommendation 9/10: openai_9\n",
            "   Recommendation 10/10: openai_10\n",
            "✓ Completed self-evaluations\n",
            "  - Claude evaluations: 100\n",
            "  - OpenAI evaluations: 100\n"
          ]
        }
      ]
    },
    {
      "cell_type": "markdown",
      "source": [
        "### Run Analysis"
      ],
      "metadata": {
        "id": "uMWTXhlz2I1m"
      }
    },
    {
      "cell_type": "code",
      "source": [
        "li_article_experiment.analyze_consistency()"
      ],
      "metadata": {
        "colab": {
          "base_uri": "https://localhost:8080/"
        },
        "id": "ukjOP7PBla4e",
        "outputId": "49a9f08e-82e3-4209-a515-bc86a5a68002"
      },
      "execution_count": null,
      "outputs": [
        {
          "output_type": "stream",
          "name": "stdout",
          "text": [
            "\n",
            "PHASE 3: Analyzing consistency...\n",
            "------------------------------------------------------------\n",
            "✓ Analyzed consistency for 20 recommendations\n"
          ]
        }
      ]
    },
    {
      "cell_type": "markdown",
      "source": [
        "### Export Results (LLM Calls Get Expensive)"
      ],
      "metadata": {
        "id": "rdxp0r8l2fGK"
      }
    },
    {
      "cell_type": "code",
      "source": [
        "#li_article_experiment.export_results()"
      ],
      "metadata": {
        "colab": {
          "base_uri": "https://localhost:8080/"
        },
        "id": "eRu-2HFBWYki",
        "outputId": "3dbbebd2-4d47-40de-bb6d-0f8e87568043"
      },
      "execution_count": null,
      "outputs": [
        {
          "output_type": "stream",
          "name": "stdout",
          "text": [
            "✓ Results exported to li_consistency_results.json\n",
            "✓ Analysis summary exported to li_consistency_results_summary.csv\n"
          ]
        }
      ]
    },
    {
      "cell_type": "markdown",
      "source": [
        "### Show Summary"
      ],
      "metadata": {
        "id": "p3PujKyp2NJT"
      }
    },
    {
      "cell_type": "code",
      "source": [
        "# View results\n",
        "li_article_experiment.show_consistency_summary()"
      ],
      "metadata": {
        "colab": {
          "base_uri": "https://localhost:8080/"
        },
        "id": "31cdK_2Clc6N",
        "outputId": "7842d41f-0384-4a9f-c43f-13fd3c139b27"
      },
      "execution_count": null,
      "outputs": [
        {
          "output_type": "stream",
          "name": "stdout",
          "text": [
            "\n",
            "CONSISTENCY ANALYSIS SUMMARY:\n",
            "================================================================================\n",
            "Total recommendations analyzed: 20\n",
            "Perfectly consistent: 12/20 (60.0%)\n",
            "Average consistency percentage: 75.5%\n",
            "\n",
            "By Model:\n",
            "  CLAUDE:\n",
            "    Perfectly consistent: 6/10 (60.0%)\n",
            "    Avg consistency percentage: 70.0%\n",
            "  OPENAI:\n",
            "    Perfectly consistent: 6/10 (60.0%)\n",
            "    Avg consistency percentage: 81.0%\n",
            "\n",
            "Least Consistent Recommendations (lowest consistency %):\n",
            "  claude_2 [CLAUDE]: 0.0% consistent (confidence: 9)\n",
            "    (0 good, 10 bad out of 10)\n",
            "    \"Allocate 15-20% to U.S. industrials sector which is up 15% Y...\"\n",
            "\n",
            "  claude_6 [CLAUDE]: 0.0% consistent (confidence: 5)\n",
            "    (0 good, 10 bad out of 10)\n",
            "    \"Consider 10-15% allocation to U.S. Treasury bonds with durat...\"\n",
            "\n",
            "  claude_4 [CLAUDE]: 30.0% consistent (confidence: 7)\n",
            "    (3 good, 7 bad out of 10)\n",
            "    \"Implement defensive positioning by allocating 5-10% to luxur...\"\n",
            "\n",
            "  openai_8 [OPENAI]: 30.0% consistent (confidence: 3)\n",
            "    (3 good, 7 bad out of 10)\n",
            "    \"Invest in inflation-protected assets like Treasury Inflation...\"\n",
            "\n",
            "  openai_2 [OPENAI]: 50.0% consistent (confidence: 9)\n",
            "    (5 good, 5 bad out of 10)\n",
            "    \"Invest in the Industrials sector within the S&P 500, which h...\"\n",
            "\n"
          ]
        }
      ]
    },
    {
      "cell_type": "markdown",
      "source": [
        "### Show Visualizations to Compare Consistency Across Models"
      ],
      "metadata": {
        "id": "n-iKZsjk2VBD"
      }
    },
    {
      "cell_type": "code",
      "source": [
        "li_article_experiment.create_inconsistency_histogram()"
      ],
      "metadata": {
        "colab": {
          "base_uri": "https://localhost:8080/",
          "height": 367
        },
        "id": "j1R5gvNnWO1A",
        "outputId": "21b4bb76-699a-4ab9-ce9c-caefa121e79b"
      },
      "execution_count": null,
      "outputs": [
        {
          "output_type": "display_data",
          "data": {
            "text/plain": [
              "<Figure size 1500x600 with 2 Axes>"
            ],
            "image/png": "[encoded data removed]"
          },
          "metadata": {}
        }
      ]
    },
    {
      "cell_type": "markdown",
      "source": [
        "### Show Detailed Breakdown"
      ],
      "metadata": {
        "id": "pJ79b36g2b39"
      }
    },
    {
      "cell_type": "code",
      "source": [
        "li_article_experiment.show_detailed_breakdown()"
      ],
      "metadata": {
        "colab": {
          "base_uri": "https://localhost:8080/"
        },
        "id": "6lbDwA7c2TJL",
        "outputId": "7f9a1546-c10b-443c-8708-406534e7f46c"
      },
      "execution_count": null,
      "outputs": [
        {
          "output_type": "stream",
          "name": "stdout",
          "text": [
            "\n",
            "DETAILED CONSISTENCY BREAKDOWN:\n",
            "================================================================================\n",
            "claude_1 [CLAUDE] - ✓ PERFECTLY CONSISTENT (confidence: 10)\n",
            "  Good: 10/10 (100.0%)\n",
            "  Bad: 0/10 (0.0%)\n",
            "  Recommendation: \"Overweight mega-cap technology stocks (Microsoft, Meta) with AI exposure - targe...\"\n",
            "\n",
            "claude_2 [CLAUDE] - ⚠ 0.0% CONSISTENT (confidence: 9)\n",
            "  Good: 0/10 (0.0%)\n",
            "  Bad: 10/10 (100.0%)\n",
            "  Recommendation: \"Allocate 15-20% to U.S. industrials sector which is up 15% YTD vs 6% for S&P 500...\"\n",
            "\n",
            "claude_3 [CLAUDE] - ✓ PERFECTLY CONSISTENT (confidence: 8)\n",
            "  Good: 10/10 (100.0%)\n",
            "  Bad: 0/10 (0.0%)\n",
            "  Recommendation: \"Maintain overweight position in U.S. equities at 60-65% of equity allocation, su...\"\n",
            "\n",
            "claude_4 [CLAUDE] - ⚠ 30.0% CONSISTENT (confidence: 7)\n",
            "  Good: 3/10 (30.0%)\n",
            "  Bad: 7/10 (70.0%)\n",
            "  Recommendation: \"Implement defensive positioning by allocating 5-10% to luxury goods companies li...\"\n",
            "\n",
            "claude_5 [CLAUDE] - ✓ PERFECTLY CONSISTENT (confidence: 6)\n",
            "  Good: 10/10 (100.0%)\n",
            "  Bad: 0/10 (0.0%)\n",
            "  Recommendation: \"Reduce exposure to global automakers (GM, Ford) to maximum 3-5% allocation due t...\"\n",
            "\n",
            "claude_6 [CLAUDE] - ⚠ 0.0% CONSISTENT (confidence: 5)\n",
            "  Good: 0/10 (0.0%)\n",
            "  Bad: 10/10 (100.0%)\n",
            "  Recommendation: \"Consider 10-15% allocation to U.S. Treasury bonds with duration 5-7 years as yie...\"\n",
            "\n",
            "claude_7 [CLAUDE] - ✓ PERFECTLY CONSISTENT (confidence: 4)\n",
            "  Good: 10/10 (100.0%)\n",
            "  Bad: 0/10 (0.0%)\n",
            "  Recommendation: \"Avoid or limit exposure to European automakers to under 2% allocation given dual...\"\n",
            "\n",
            "claude_8 [CLAUDE] - ✓ PERFECTLY CONSISTENT (confidence: 3)\n",
            "  Good: 10/10 (100.0%)\n",
            "  Bad: 0/10 (0.0%)\n",
            "  Recommendation: \"Diversify within industrials by selecting companies with domestic supply chains ...\"\n",
            "\n",
            "claude_9 [CLAUDE] - ✓ PERFECTLY CONSISTENT (confidence: 2)\n",
            "  Good: 10/10 (100.0%)\n",
            "  Bad: 0/10 (0.0%)\n",
            "  Recommendation: \"Monitor and potentially reduce consumer discretionary exposure in appliances/ele...\"\n",
            "\n",
            "claude_10 [CLAUDE] - ⚠ 70.0% CONSISTENT (confidence: 1)\n",
            "  Good: 7/10 (70.0%)\n",
            "  Bad: 3/10 (30.0%)\n",
            "  Recommendation: \"Consider tactical short-term underweight in import-dependent sectors until trade...\"\n",
            "\n",
            "openai_1 [OPENAI] - ⚠ 80.0% CONSISTENT (confidence: 10)\n",
            "  Good: 8/10 (80.0%)\n",
            "  Bad: 2/10 (20.0%)\n",
            "  Recommendation: \"Overweight U.S. AI-focused stocks such as Microsoft and Meta, capitalizing on th...\"\n",
            "\n",
            "openai_2 [OPENAI] - ⚠ 50.0% CONSISTENT (confidence: 9)\n",
            "  Good: 5/10 (50.0%)\n",
            "  Bad: 5/10 (50.0%)\n",
            "  Recommendation: \"Invest in the Industrials sector within the S&P 500, which has outperformed the ...\"\n",
            "\n",
            "openai_3 [OPENAI] - ✓ PERFECTLY CONSISTENT (confidence: 8)\n",
            "  Good: 10/10 (100.0%)\n",
            "  Bad: 0/10 (0.0%)\n",
            "  Recommendation: \"Allocate funds to U.S. mega-cap tech companies with high profit margins and sign...\"\n",
            "\n",
            "openai_4 [OPENAI] - ✓ PERFECTLY CONSISTENT (confidence: 7)\n",
            "  Good: 10/10 (100.0%)\n",
            "  Bad: 0/10 (0.0%)\n",
            "  Recommendation: \"Invest in quality automakers such as Ferrari that have demonstrated pricing powe...\"\n",
            "\n",
            "openai_5 [OPENAI] - ✓ PERFECTLY CONSISTENT (confidence: 6)\n",
            "  Good: 10/10 (100.0%)\n",
            "  Bad: 0/10 (0.0%)\n",
            "  Recommendation: \"Monitor and invest in U.S. consumer goods companies effectively passing tariff c...\"\n",
            "\n",
            "openai_6 [OPENAI] - ✓ PERFECTLY CONSISTENT (confidence: 5)\n",
            "  Good: 10/10 (100.0%)\n",
            "  Bad: 0/10 (0.0%)\n",
            "  Recommendation: \"Focus on U.S. manufacturing companies within the industrials sector that are int...\"\n",
            "\n",
            "openai_7 [OPENAI] - ⚠ 50.0% CONSISTENT (confidence: 4)\n",
            "  Good: 5/10 (50.0%)\n",
            "  Bad: 5/10 (50.0%)\n",
            "  Recommendation: \"Diversify into defensive sectors such as consumer staples and utilities to hedge...\"\n",
            "\n",
            "openai_8 [OPENAI] - ⚠ 30.0% CONSISTENT (confidence: 3)\n",
            "  Good: 3/10 (30.0%)\n",
            "  Bad: 7/10 (70.0%)\n",
            "  Recommendation: \"Invest in inflation-protected assets like Treasury Inflation-Protected Securitie...\"\n",
            "\n",
            "openai_9 [OPENAI] - ✓ PERFECTLY CONSISTENT (confidence: 2)\n",
            "  Good: 10/10 (100.0%)\n",
            "  Bad: 0/10 (0.0%)\n",
            "  Recommendation: \"Take a selective approach to investing in automaker stocks exposed to tariffs, f...\"\n",
            "\n",
            "openai_10 [OPENAI] - ✓ PERFECTLY CONSISTENT (confidence: 1)\n",
            "  Good: 10/10 (100.0%)\n",
            "  Bad: 0/10 (0.0%)\n",
            "  Recommendation: \"Stay cautious with bond investments as bond yields have slid amid expectations o...\"\n",
            "\n"
          ]
        }
      ]
    },
    {
      "cell_type": "markdown",
      "source": [
        "### For LI Article"
      ],
      "metadata": {
        "id": "tzBSBwz7Q44T"
      }
    },
    {
      "cell_type": "code",
      "source": [
        "li_article_experiment.export_charts()"
      ],
      "metadata": {
        "colab": {
          "base_uri": "https://localhost:8080/"
        },
        "id": "3hlHtzw2QwBb",
        "outputId": "03ad8bac-722e-4026-97fa-bde6fb03d1ed"
      },
      "execution_count": null,
      "outputs": [
        {
          "output_type": "stream",
          "name": "stdout",
          "text": [
            "✓ Histogram exported to llm_consistency_histogram.png\n",
            "✓ Scatter plot exported to llm_consistency_scatter.png\n",
            "\n",
            "Both charts exported at 150 DPI for publication quality\n",
            "Files: llm_consistency_histogram.png, llm_consistency_scatter.png\n"
          ]
        }
      ]
    },
    {
      "cell_type": "code",
      "source": [
        "li_article_experiment.get_article_facts()"
      ],
      "metadata": {
        "id": "klepQQE4Q-e5",
        "colab": {
          "base_uri": "https://localhost:8080/",
          "height": 680
        },
        "outputId": "1de3a8ed-6006-427f-b2d6-bf89fe168c09"
      },
      "execution_count": null,
      "outputs": [
        {
          "output_type": "stream",
          "name": "stdout",
          "text": [
            "ARTICLE FACTS:\n",
            "\n",
            "KEY INCONSISTENCY METRICS:\n",
            "- 40.0% of recommendations showed some inconsistency (rated as 'bad' at least once)\n",
            "- 2 recommendations were rated as 'bad' 100% of the time\n",
            "- Average consistency across all recommendations: 75.5%\n",
            "- Total recommendations analyzed: 20 (10 evaluations each)\n",
            "\n",
            "BY MODEL BREAKDOWN:\n",
            "Claude:\n",
            "- 4/10 recommendations showed inconsistency (40.0%)\n",
            "- 2 recommendations rated 'bad' 100% of the time\n",
            "- Average consistency: 70.0%\n",
            "\n",
            "OpenAI:\n",
            "- 4/10 recommendations showed inconsistency (40.0%)\n",
            "- 0 recommendations rated 'bad' 100% of the time\n",
            "- Average consistency: 81.0%\n",
            "\n",
            "Claude confidence-consistency correlation: -0.229\n",
            "OpenAI confidence-consistency correlation: -0.020\n",
            "\n",
            "ARTICLE-READY SENTENCES:\n",
            "\"I measured its response 10 times per recommendation. 40.0% of the time the LLM rated its own 'good' advice as 'bad' at least one time. For 2 recommendations, the LLM rated its advice as 'bad' 100% percent of the time! Not too confidence inspiring for our free financial advisor.\"\n",
            "\n",
            "\"On average, the models were consistent with their own recommendations 75.5% of the time.\"\n",
            "        \n"
          ]
        },
        {
          "output_type": "execute_result",
          "data": {
            "text/plain": [
              "'ARTICLE FACTS:\\n\\nKEY INCONSISTENCY METRICS:\\n- 40.0% of recommendations showed some inconsistency (rated as \\'bad\\' at least once)\\n- 2 recommendations were rated as \\'bad\\' 100% of the time\\n- Average consistency across all recommendations: 75.5%\\n- Total recommendations analyzed: 20 (10 evaluations each)\\n\\nBY MODEL BREAKDOWN:\\nClaude:\\n- 4/10 recommendations showed inconsistency (40.0%)\\n- 2 recommendations rated \\'bad\\' 100% of the time\\n- Average consistency: 70.0%\\n\\nOpenAI:\\n- 4/10 recommendations showed inconsistency (40.0%)\\n- 0 recommendations rated \\'bad\\' 100% of the time\\n- Average consistency: 81.0%\\n\\nClaude confidence-consistency correlation: -0.229\\nOpenAI confidence-consistency correlation: -0.020\\n\\nARTICLE-READY SENTENCES:\\n\"I measured its response 10 times per recommendation. 40.0% of the time the LLM rated its own \\'good\\' advice as \\'bad\\' at least one time. For 2 recommendations, the LLM rated its advice as \\'bad\\' 100% percent of the time! Not too confidence inspiring for our free financial advisor.\"\\n\\n\"On average, the models were consistent with their own recommendations 75.5% of the time.\"\\n        '"
            ],
            "application/vnd.google.colaboratory.intrinsic+json": {
              "type": "string"
            }
          },
          "metadata": {},
          "execution_count": 26
        }
      ]
    }
  ],
  "metadata": {
    "colab": {
      "provenance": [],
      "include_colab_link": true
    },
    "kernelspec": {
      "display_name": "Python 3",
      "name": "python3"
    },
    "language_info": {
      "name": "python"
    }
  },
  "nbformat": 4,
  "nbformat_minor": 0
}